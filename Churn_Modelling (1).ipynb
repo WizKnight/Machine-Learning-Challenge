{
  "nbformat": 4,
  "nbformat_minor": 0,
  "metadata": {
    "colab": {
      "provenance": []
    },
    "kernelspec": {
      "name": "python3",
      "display_name": "Python 3"
    },
    "language_info": {
      "name": "python"
    }
  },
  "cells": [
    {
      "cell_type": "code",
      "execution_count": null,
      "metadata": {
        "id": "GaQm6U_GK64o"
      },
      "outputs": [],
      "source": [
        "# pip install tensorflow==2.13.*"
      ]
    },
    {
      "cell_type": "code",
      "source": [
        "import tensorflow as tf\n",
        "print(tf.__version__)"
      ],
      "metadata": {
        "colab": {
          "base_uri": "https://localhost:8080/"
        },
        "id": "cndO_7beL9em",
        "outputId": "5d80666d-5738-4386-f6cb-76d062387a9f"
      },
      "execution_count": null,
      "outputs": [
        {
          "output_type": "stream",
          "name": "stdout",
          "text": [
            "2.13.0\n"
          ]
        }
      ]
    },
    {
      "cell_type": "markdown",
      "source": [
        "## Importing Necessary Libraries"
      ],
      "metadata": {
        "id": "98UdO7dMO20p"
      }
    },
    {
      "cell_type": "code",
      "source": [
        "import numpy as np\n",
        "import pandas as pd\n",
        "import matplotlib.pyplot as plt\n",
        "%matplotlib inline\n",
        "\n",
        "import warnings\n",
        "warnings.filterwarnings('ignore')"
      ],
      "metadata": {
        "id": "d8sp6vkYOxlx"
      },
      "execution_count": null,
      "outputs": []
    },
    {
      "cell_type": "code",
      "source": [
        "data = pd.read_csv('/content/Churn_Modelling.csv')\n",
        "data.head()"
      ],
      "metadata": {
        "colab": {
          "base_uri": "https://localhost:8080/",
          "height": 270
        },
        "id": "iXqRPBqIPHeC",
        "outputId": "5e850b19-0cbf-4a6f-884b-4c04d56c686a"
      },
      "execution_count": null,
      "outputs": [
        {
          "output_type": "execute_result",
          "data": {
            "text/plain": [
              "   RowNumber  CustomerId   Surname  CreditScore Geography  Gender  Age  \\\n",
              "0          1    15634602  Hargrave          619    France  Female   42   \n",
              "1          2    15647311      Hill          608     Spain  Female   41   \n",
              "2          3    15619304      Onio          502    France  Female   42   \n",
              "3          4    15701354      Boni          699    France  Female   39   \n",
              "4          5    15737888  Mitchell          850     Spain  Female   43   \n",
              "\n",
              "   Tenure    Balance  NumOfProducts  HasCrCard  IsActiveMember  \\\n",
              "0       2       0.00              1          1               1   \n",
              "1       1   83807.86              1          0               1   \n",
              "2       8  159660.80              3          1               0   \n",
              "3       1       0.00              2          0               0   \n",
              "4       2  125510.82              1          1               1   \n",
              "\n",
              "   EstimatedSalary  Exited  \n",
              "0        101348.88       1  \n",
              "1        112542.58       0  \n",
              "2        113931.57       1  \n",
              "3         93826.63       0  \n",
              "4         79084.10       0  "
            ],
            "text/html": [
              "\n",
              "\n",
              "  <div id=\"df-9e72ac55-9abf-477f-89ba-69ca2f871cb7\">\n",
              "    <div class=\"colab-df-container\">\n",
              "      <div>\n",
              "<style scoped>\n",
              "    .dataframe tbody tr th:only-of-type {\n",
              "        vertical-align: middle;\n",
              "    }\n",
              "\n",
              "    .dataframe tbody tr th {\n",
              "        vertical-align: top;\n",
              "    }\n",
              "\n",
              "    .dataframe thead th {\n",
              "        text-align: right;\n",
              "    }\n",
              "</style>\n",
              "<table border=\"1\" class=\"dataframe\">\n",
              "  <thead>\n",
              "    <tr style=\"text-align: right;\">\n",
              "      <th></th>\n",
              "      <th>RowNumber</th>\n",
              "      <th>CustomerId</th>\n",
              "      <th>Surname</th>\n",
              "      <th>CreditScore</th>\n",
              "      <th>Geography</th>\n",
              "      <th>Gender</th>\n",
              "      <th>Age</th>\n",
              "      <th>Tenure</th>\n",
              "      <th>Balance</th>\n",
              "      <th>NumOfProducts</th>\n",
              "      <th>HasCrCard</th>\n",
              "      <th>IsActiveMember</th>\n",
              "      <th>EstimatedSalary</th>\n",
              "      <th>Exited</th>\n",
              "    </tr>\n",
              "  </thead>\n",
              "  <tbody>\n",
              "    <tr>\n",
              "      <th>0</th>\n",
              "      <td>1</td>\n",
              "      <td>15634602</td>\n",
              "      <td>Hargrave</td>\n",
              "      <td>619</td>\n",
              "      <td>France</td>\n",
              "      <td>Female</td>\n",
              "      <td>42</td>\n",
              "      <td>2</td>\n",
              "      <td>0.00</td>\n",
              "      <td>1</td>\n",
              "      <td>1</td>\n",
              "      <td>1</td>\n",
              "      <td>101348.88</td>\n",
              "      <td>1</td>\n",
              "    </tr>\n",
              "    <tr>\n",
              "      <th>1</th>\n",
              "      <td>2</td>\n",
              "      <td>15647311</td>\n",
              "      <td>Hill</td>\n",
              "      <td>608</td>\n",
              "      <td>Spain</td>\n",
              "      <td>Female</td>\n",
              "      <td>41</td>\n",
              "      <td>1</td>\n",
              "      <td>83807.86</td>\n",
              "      <td>1</td>\n",
              "      <td>0</td>\n",
              "      <td>1</td>\n",
              "      <td>112542.58</td>\n",
              "      <td>0</td>\n",
              "    </tr>\n",
              "    <tr>\n",
              "      <th>2</th>\n",
              "      <td>3</td>\n",
              "      <td>15619304</td>\n",
              "      <td>Onio</td>\n",
              "      <td>502</td>\n",
              "      <td>France</td>\n",
              "      <td>Female</td>\n",
              "      <td>42</td>\n",
              "      <td>8</td>\n",
              "      <td>159660.80</td>\n",
              "      <td>3</td>\n",
              "      <td>1</td>\n",
              "      <td>0</td>\n",
              "      <td>113931.57</td>\n",
              "      <td>1</td>\n",
              "    </tr>\n",
              "    <tr>\n",
              "      <th>3</th>\n",
              "      <td>4</td>\n",
              "      <td>15701354</td>\n",
              "      <td>Boni</td>\n",
              "      <td>699</td>\n",
              "      <td>France</td>\n",
              "      <td>Female</td>\n",
              "      <td>39</td>\n",
              "      <td>1</td>\n",
              "      <td>0.00</td>\n",
              "      <td>2</td>\n",
              "      <td>0</td>\n",
              "      <td>0</td>\n",
              "      <td>93826.63</td>\n",
              "      <td>0</td>\n",
              "    </tr>\n",
              "    <tr>\n",
              "      <th>4</th>\n",
              "      <td>5</td>\n",
              "      <td>15737888</td>\n",
              "      <td>Mitchell</td>\n",
              "      <td>850</td>\n",
              "      <td>Spain</td>\n",
              "      <td>Female</td>\n",
              "      <td>43</td>\n",
              "      <td>2</td>\n",
              "      <td>125510.82</td>\n",
              "      <td>1</td>\n",
              "      <td>1</td>\n",
              "      <td>1</td>\n",
              "      <td>79084.10</td>\n",
              "      <td>0</td>\n",
              "    </tr>\n",
              "  </tbody>\n",
              "</table>\n",
              "</div>\n",
              "      <button class=\"colab-df-convert\" onclick=\"convertToInteractive('df-9e72ac55-9abf-477f-89ba-69ca2f871cb7')\"\n",
              "              title=\"Convert this dataframe to an interactive table.\"\n",
              "              style=\"display:none;\">\n",
              "\n",
              "  <svg xmlns=\"http://www.w3.org/2000/svg\" height=\"24px\"viewBox=\"0 0 24 24\"\n",
              "       width=\"24px\">\n",
              "    <path d=\"M0 0h24v24H0V0z\" fill=\"none\"/>\n",
              "    <path d=\"M18.56 5.44l.94 2.06.94-2.06 2.06-.94-2.06-.94-.94-2.06-.94 2.06-2.06.94zm-11 1L8.5 8.5l.94-2.06 2.06-.94-2.06-.94L8.5 2.5l-.94 2.06-2.06.94zm10 10l.94 2.06.94-2.06 2.06-.94-2.06-.94-.94-2.06-.94 2.06-2.06.94z\"/><path d=\"M17.41 7.96l-1.37-1.37c-.4-.4-.92-.59-1.43-.59-.52 0-1.04.2-1.43.59L10.3 9.45l-7.72 7.72c-.78.78-.78 2.05 0 2.83L4 21.41c.39.39.9.59 1.41.59.51 0 1.02-.2 1.41-.59l7.78-7.78 2.81-2.81c.8-.78.8-2.07 0-2.86zM5.41 20L4 18.59l7.72-7.72 1.47 1.35L5.41 20z\"/>\n",
              "  </svg>\n",
              "      </button>\n",
              "\n",
              "\n",
              "\n",
              "    <div id=\"df-0955f762-5bfe-4c93-b409-662c0777fb45\">\n",
              "      <button class=\"colab-df-quickchart\" onclick=\"quickchart('df-0955f762-5bfe-4c93-b409-662c0777fb45')\"\n",
              "              title=\"Suggest charts.\"\n",
              "              style=\"display:none;\">\n",
              "\n",
              "<svg xmlns=\"http://www.w3.org/2000/svg\" height=\"24px\"viewBox=\"0 0 24 24\"\n",
              "     width=\"24px\">\n",
              "    <g>\n",
              "        <path d=\"M19 3H5c-1.1 0-2 .9-2 2v14c0 1.1.9 2 2 2h14c1.1 0 2-.9 2-2V5c0-1.1-.9-2-2-2zM9 17H7v-7h2v7zm4 0h-2V7h2v10zm4 0h-2v-4h2v4z\"/>\n",
              "    </g>\n",
              "</svg>\n",
              "      </button>\n",
              "    </div>\n",
              "\n",
              "<style>\n",
              "  .colab-df-quickchart {\n",
              "    background-color: #E8F0FE;\n",
              "    border: none;\n",
              "    border-radius: 50%;\n",
              "    cursor: pointer;\n",
              "    display: none;\n",
              "    fill: #1967D2;\n",
              "    height: 32px;\n",
              "    padding: 0 0 0 0;\n",
              "    width: 32px;\n",
              "  }\n",
              "\n",
              "  .colab-df-quickchart:hover {\n",
              "    background-color: #E2EBFA;\n",
              "    box-shadow: 0px 1px 2px rgba(60, 64, 67, 0.3), 0px 1px 3px 1px rgba(60, 64, 67, 0.15);\n",
              "    fill: #174EA6;\n",
              "  }\n",
              "\n",
              "  [theme=dark] .colab-df-quickchart {\n",
              "    background-color: #3B4455;\n",
              "    fill: #D2E3FC;\n",
              "  }\n",
              "\n",
              "  [theme=dark] .colab-df-quickchart:hover {\n",
              "    background-color: #434B5C;\n",
              "    box-shadow: 0px 1px 3px 1px rgba(0, 0, 0, 0.15);\n",
              "    filter: drop-shadow(0px 1px 2px rgba(0, 0, 0, 0.3));\n",
              "    fill: #FFFFFF;\n",
              "  }\n",
              "</style>\n",
              "\n",
              "    <script>\n",
              "      async function quickchart(key) {\n",
              "        const containerElement = document.querySelector('#' + key);\n",
              "        const charts = await google.colab.kernel.invokeFunction(\n",
              "            'suggestCharts', [key], {});\n",
              "      }\n",
              "    </script>\n",
              "\n",
              "      <script>\n",
              "\n",
              "function displayQuickchartButton(domScope) {\n",
              "  let quickchartButtonEl =\n",
              "    domScope.querySelector('#df-0955f762-5bfe-4c93-b409-662c0777fb45 button.colab-df-quickchart');\n",
              "  quickchartButtonEl.style.display =\n",
              "    google.colab.kernel.accessAllowed ? 'block' : 'none';\n",
              "}\n",
              "\n",
              "        displayQuickchartButton(document);\n",
              "      </script>\n",
              "      <style>\n",
              "    .colab-df-container {\n",
              "      display:flex;\n",
              "      flex-wrap:wrap;\n",
              "      gap: 12px;\n",
              "    }\n",
              "\n",
              "    .colab-df-convert {\n",
              "      background-color: #E8F0FE;\n",
              "      border: none;\n",
              "      border-radius: 50%;\n",
              "      cursor: pointer;\n",
              "      display: none;\n",
              "      fill: #1967D2;\n",
              "      height: 32px;\n",
              "      padding: 0 0 0 0;\n",
              "      width: 32px;\n",
              "    }\n",
              "\n",
              "    .colab-df-convert:hover {\n",
              "      background-color: #E2EBFA;\n",
              "      box-shadow: 0px 1px 2px rgba(60, 64, 67, 0.3), 0px 1px 3px 1px rgba(60, 64, 67, 0.15);\n",
              "      fill: #174EA6;\n",
              "    }\n",
              "\n",
              "    [theme=dark] .colab-df-convert {\n",
              "      background-color: #3B4455;\n",
              "      fill: #D2E3FC;\n",
              "    }\n",
              "\n",
              "    [theme=dark] .colab-df-convert:hover {\n",
              "      background-color: #434B5C;\n",
              "      box-shadow: 0px 1px 3px 1px rgba(0, 0, 0, 0.15);\n",
              "      filter: drop-shadow(0px 1px 2px rgba(0, 0, 0, 0.3));\n",
              "      fill: #FFFFFF;\n",
              "    }\n",
              "  </style>\n",
              "\n",
              "      <script>\n",
              "        const buttonEl =\n",
              "          document.querySelector('#df-9e72ac55-9abf-477f-89ba-69ca2f871cb7 button.colab-df-convert');\n",
              "        buttonEl.style.display =\n",
              "          google.colab.kernel.accessAllowed ? 'block' : 'none';\n",
              "\n",
              "        async function convertToInteractive(key) {\n",
              "          const element = document.querySelector('#df-9e72ac55-9abf-477f-89ba-69ca2f871cb7');\n",
              "          const dataTable =\n",
              "            await google.colab.kernel.invokeFunction('convertToInteractive',\n",
              "                                                     [key], {});\n",
              "          if (!dataTable) return;\n",
              "\n",
              "          const docLinkHtml = 'Like what you see? Visit the ' +\n",
              "            '<a target=\"_blank\" href=https://colab.research.google.com/notebooks/data_table.ipynb>data table notebook</a>'\n",
              "            + ' to learn more about interactive tables.';\n",
              "          element.innerHTML = '';\n",
              "          dataTable['output_type'] = 'display_data';\n",
              "          await google.colab.output.renderOutput(dataTable, element);\n",
              "          const docLink = document.createElement('div');\n",
              "          docLink.innerHTML = docLinkHtml;\n",
              "          element.appendChild(docLink);\n",
              "        }\n",
              "      </script>\n",
              "    </div>\n",
              "  </div>\n"
            ]
          },
          "metadata": {},
          "execution_count": 28
        }
      ]
    },
    {
      "cell_type": "markdown",
      "source": [
        "* Its a binary classification problem.\n",
        "* So, we have to predict whether the customer is going to exit the bank or not."
      ],
      "metadata": {
        "id": "c3XYDxadPXxC"
      }
    },
    {
      "cell_type": "markdown",
      "source": [
        "### Divide the dataset into dependent and independent features"
      ],
      "metadata": {
        "id": "sbQFQpeTTrYK"
      }
    },
    {
      "cell_type": "code",
      "source": [
        "X = data.iloc[:, 3:13]\n",
        "y = data.iloc[:,13]"
      ],
      "metadata": {
        "id": "T4YjyRaEPTHE"
      },
      "execution_count": null,
      "outputs": []
    },
    {
      "cell_type": "markdown",
      "source": [
        "## Feature Engineering"
      ],
      "metadata": {
        "id": "5sJdxqMSTwOf"
      }
    },
    {
      "cell_type": "code",
      "source": [
        "geography = pd.get_dummies(X['Geography'], drop_first = True)\n",
        "gender = pd.get_dummies(X['Gender'], drop_first = True)"
      ],
      "metadata": {
        "id": "RmrUfsm1Qx94"
      },
      "execution_count": null,
      "outputs": []
    },
    {
      "cell_type": "markdown",
      "source": [
        "### Concateneting these variables with dataframe"
      ],
      "metadata": {
        "id": "ccDKtbwbT1Wm"
      }
    },
    {
      "cell_type": "code",
      "source": [
        "X = X.drop(['Geography','Gender'], axis=1)"
      ],
      "metadata": {
        "id": "GNJRt5yeRt8j"
      },
      "execution_count": null,
      "outputs": []
    },
    {
      "cell_type": "code",
      "source": [
        "X = pd.concat([X, geography, gender], axis=1)"
      ],
      "metadata": {
        "id": "6U83vSAMRt5I"
      },
      "execution_count": null,
      "outputs": []
    },
    {
      "cell_type": "markdown",
      "source": [
        "### Splitting the dataset into training set and test set"
      ],
      "metadata": {
        "id": "uaeOC07zT54O"
      }
    },
    {
      "cell_type": "code",
      "source": [
        "from sklearn.model_selection import train_test_split\n",
        "\n",
        "X_train, X_test, y_train, y_test = train_test_split(X, y, test_size=0.3, random_state=0)"
      ],
      "metadata": {
        "id": "cOas52KvRt19"
      },
      "execution_count": null,
      "outputs": []
    },
    {
      "cell_type": "markdown",
      "source": [
        "## Feature Scaling"
      ],
      "metadata": {
        "id": "ufvAm1NoT8QY"
      }
    },
    {
      "cell_type": "code",
      "source": [
        "from sklearn.preprocessing import StandardScaler\n",
        "\n",
        "sc = StandardScaler()\n",
        "\n",
        "X_train = sc.fit_transform(X_train)\n",
        "X_test = sc.transform(X_test)"
      ],
      "metadata": {
        "id": "Kg7pDQIYRty5"
      },
      "execution_count": null,
      "outputs": []
    },
    {
      "cell_type": "code",
      "source": [
        "X_train.shape"
      ],
      "metadata": {
        "colab": {
          "base_uri": "https://localhost:8080/"
        },
        "id": "bXMnliC-RtsL",
        "outputId": "208752a6-3bb4-435b-a916-9b50ce8c8edc"
      },
      "execution_count": null,
      "outputs": [
        {
          "output_type": "execute_result",
          "data": {
            "text/plain": [
              "(7000, 11)"
            ]
          },
          "metadata": {},
          "execution_count": 35
        }
      ]
    },
    {
      "cell_type": "markdown",
      "source": [
        "## Now Lets Create ANN"
      ],
      "metadata": {
        "id": "hjFcI_RkXdZI"
      }
    },
    {
      "cell_type": "code",
      "source": [
        "from tensorflow.keras import Sequential\n",
        "from tensorflow.keras.layers import Dense\n",
        "from tensorflow.keras.layers import LeakyReLU, PReLU, ELU, ReLU\n",
        "from tensorflow.keras.layers import Dropout"
      ],
      "metadata": {
        "id": "hNYV3F7wV51Z"
      },
      "execution_count": null,
      "outputs": []
    },
    {
      "cell_type": "code",
      "source": [
        "## Intializing The ANN\n",
        "classifier = Sequential()"
      ],
      "metadata": {
        "id": "0O1p28OJZmp1"
      },
      "execution_count": null,
      "outputs": []
    },
    {
      "cell_type": "code",
      "source": [
        "## Adding the input layer\n",
        "classifier.add(Dense(units=11, activation='relu'))"
      ],
      "metadata": {
        "id": "va6Hg1B0ZmmX"
      },
      "execution_count": null,
      "outputs": []
    },
    {
      "cell_type": "code",
      "source": [
        "## Adding first hidden layer\n",
        "classifier.add(Dense(units=7, activation='relu'))"
      ],
      "metadata": {
        "id": "ql1I644gZmje"
      },
      "execution_count": null,
      "outputs": []
    },
    {
      "cell_type": "code",
      "source": [
        "## Adding second hidden layer\n",
        "classifier.add(Dense(units=6, activation='relu'))"
      ],
      "metadata": {
        "id": "-AdSbi24Zmfb"
      },
      "execution_count": null,
      "outputs": []
    },
    {
      "cell_type": "code",
      "source": [
        "## Adding output layer\n",
        "classifier.add(Dense(1, activation='sigmoid'))"
      ],
      "metadata": {
        "id": "ZOxF6So5ZmcO"
      },
      "execution_count": null,
      "outputs": []
    },
    {
      "cell_type": "code",
      "source": [
        "classifier.compile(optimizer='adam',\n",
        "                   loss='binary_crossentropy', metrics=['accuracy'])"
      ],
      "metadata": {
        "id": "FZWzCrKMZmX-"
      },
      "execution_count": null,
      "outputs": []
    },
    {
      "cell_type": "markdown",
      "source": [
        "## Early Stopping"
      ],
      "metadata": {
        "id": "tnGcqn3pg8fc"
      }
    },
    {
      "cell_type": "code",
      "source": [
        "early_stopping = tf.keras.callbacks.EarlyStopping(\n",
        "    monitor=\"val_loss\",\n",
        "    min_delta=0.0001,\n",
        "    patience=20,\n",
        "    verbose=1,\n",
        "    mode=\"auto\",\n",
        "    baseline=None,\n",
        "    restore_best_weights=False,\n",
        "    start_from_epoch=0,\n",
        ")"
      ],
      "metadata": {
        "id": "TBF0-SxAg_35"
      },
      "execution_count": null,
      "outputs": []
    },
    {
      "cell_type": "code",
      "source": [
        "model_history = classifier.fit(X_train,y_train,\n",
        "                               validation_split=0.33, batch_size=10,\n",
        "                               epochs=1000, callbacks = early_stopping)"
      ],
      "metadata": {
        "colab": {
          "base_uri": "https://localhost:8080/"
        },
        "id": "HXFhO9MIfkRJ",
        "outputId": "9cc18bf1-af6d-4614-f4eb-efc5023b0cfc"
      },
      "execution_count": null,
      "outputs": [
        {
          "output_type": "stream",
          "name": "stdout",
          "text": [
            "Epoch 1/1000\n",
            "469/469 [==============================] - 3s 5ms/step - loss: 0.3106 - accuracy: 0.8688 - val_loss: 0.3664 - val_accuracy: 0.8529\n",
            "Epoch 2/1000\n",
            "469/469 [==============================] - 3s 7ms/step - loss: 0.3101 - accuracy: 0.8684 - val_loss: 0.3691 - val_accuracy: 0.8511\n",
            "Epoch 3/1000\n",
            "469/469 [==============================] - 2s 5ms/step - loss: 0.3106 - accuracy: 0.8693 - val_loss: 0.3681 - val_accuracy: 0.8555\n",
            "Epoch 4/1000\n",
            "469/469 [==============================] - 2s 4ms/step - loss: 0.3102 - accuracy: 0.8676 - val_loss: 0.3661 - val_accuracy: 0.8550\n",
            "Epoch 5/1000\n",
            "469/469 [==============================] - 1s 3ms/step - loss: 0.3094 - accuracy: 0.8712 - val_loss: 0.3729 - val_accuracy: 0.8542\n",
            "Epoch 6/1000\n",
            "469/469 [==============================] - 1s 3ms/step - loss: 0.3100 - accuracy: 0.8661 - val_loss: 0.3676 - val_accuracy: 0.8550\n",
            "Epoch 7/1000\n",
            "469/469 [==============================] - 1s 3ms/step - loss: 0.3087 - accuracy: 0.8676 - val_loss: 0.3671 - val_accuracy: 0.8524\n",
            "Epoch 8/1000\n",
            "469/469 [==============================] - 1s 3ms/step - loss: 0.3093 - accuracy: 0.8701 - val_loss: 0.3704 - val_accuracy: 0.8481\n",
            "Epoch 9/1000\n",
            "469/469 [==============================] - 1s 3ms/step - loss: 0.3089 - accuracy: 0.8695 - val_loss: 0.3659 - val_accuracy: 0.8555\n",
            "Epoch 10/1000\n",
            "469/469 [==============================] - 2s 4ms/step - loss: 0.3090 - accuracy: 0.8697 - val_loss: 0.3646 - val_accuracy: 0.8550\n",
            "Epoch 11/1000\n",
            "469/469 [==============================] - 2s 4ms/step - loss: 0.3089 - accuracy: 0.8697 - val_loss: 0.3715 - val_accuracy: 0.8511\n",
            "Epoch 12/1000\n",
            "469/469 [==============================] - 2s 5ms/step - loss: 0.3085 - accuracy: 0.8676 - val_loss: 0.3730 - val_accuracy: 0.8503\n",
            "Epoch 13/1000\n",
            "469/469 [==============================] - 2s 5ms/step - loss: 0.3078 - accuracy: 0.8680 - val_loss: 0.3752 - val_accuracy: 0.8486\n",
            "Epoch 14/1000\n",
            "469/469 [==============================] - 2s 4ms/step - loss: 0.3085 - accuracy: 0.8680 - val_loss: 0.3707 - val_accuracy: 0.8581\n",
            "Epoch 15/1000\n",
            "469/469 [==============================] - 1s 3ms/step - loss: 0.3078 - accuracy: 0.8695 - val_loss: 0.3748 - val_accuracy: 0.8559\n",
            "Epoch 16/1000\n",
            "469/469 [==============================] - 1s 3ms/step - loss: 0.3079 - accuracy: 0.8701 - val_loss: 0.3683 - val_accuracy: 0.8520\n",
            "Epoch 17/1000\n",
            "469/469 [==============================] - 2s 3ms/step - loss: 0.3086 - accuracy: 0.8705 - val_loss: 0.3696 - val_accuracy: 0.8507\n",
            "Epoch 18/1000\n",
            "469/469 [==============================] - 1s 3ms/step - loss: 0.3079 - accuracy: 0.8686 - val_loss: 0.3692 - val_accuracy: 0.8559\n",
            "Epoch 19/1000\n",
            "469/469 [==============================] - 1s 3ms/step - loss: 0.3080 - accuracy: 0.8697 - val_loss: 0.3688 - val_accuracy: 0.8494\n",
            "Epoch 20/1000\n",
            "469/469 [==============================] - 1s 3ms/step - loss: 0.3071 - accuracy: 0.8676 - val_loss: 0.3657 - val_accuracy: 0.8546\n",
            "Epoch 21/1000\n",
            "469/469 [==============================] - 1s 3ms/step - loss: 0.3073 - accuracy: 0.8663 - val_loss: 0.3678 - val_accuracy: 0.8516\n",
            "Epoch 22/1000\n",
            "469/469 [==============================] - 2s 5ms/step - loss: 0.3073 - accuracy: 0.8710 - val_loss: 0.3687 - val_accuracy: 0.8537\n",
            "Epoch 23/1000\n",
            "469/469 [==============================] - 2s 4ms/step - loss: 0.3072 - accuracy: 0.8691 - val_loss: 0.3686 - val_accuracy: 0.8511\n",
            "Epoch 24/1000\n",
            "469/469 [==============================] - 2s 4ms/step - loss: 0.3082 - accuracy: 0.8676 - val_loss: 0.3714 - val_accuracy: 0.8563\n",
            "Epoch 25/1000\n",
            "469/469 [==============================] - 1s 3ms/step - loss: 0.3071 - accuracy: 0.8697 - val_loss: 0.3710 - val_accuracy: 0.8563\n",
            "Epoch 26/1000\n",
            "469/469 [==============================] - 1s 3ms/step - loss: 0.3059 - accuracy: 0.8712 - val_loss: 0.3714 - val_accuracy: 0.8520\n",
            "Epoch 27/1000\n",
            "469/469 [==============================] - 1s 3ms/step - loss: 0.3065 - accuracy: 0.8697 - val_loss: 0.3714 - val_accuracy: 0.8516\n",
            "Epoch 28/1000\n",
            "469/469 [==============================] - 1s 3ms/step - loss: 0.3061 - accuracy: 0.8688 - val_loss: 0.3650 - val_accuracy: 0.8550\n",
            "Epoch 29/1000\n",
            "469/469 [==============================] - 1s 3ms/step - loss: 0.3061 - accuracy: 0.8684 - val_loss: 0.3712 - val_accuracy: 0.8537\n",
            "Epoch 30/1000\n",
            "469/469 [==============================] - 2s 3ms/step - loss: 0.3065 - accuracy: 0.8697 - val_loss: 0.3694 - val_accuracy: 0.8537\n",
            "Epoch 30: early stopping\n"
          ]
        }
      ]
    },
    {
      "cell_type": "markdown",
      "source": [
        "* At how many epochs should we stop?"
      ],
      "metadata": {
        "id": "wZ4atvzOgUYc"
      }
    },
    {
      "cell_type": "code",
      "source": [
        "model_history.history.keys()"
      ],
      "metadata": {
        "colab": {
          "base_uri": "https://localhost:8080/"
        },
        "id": "8K1cT7TnfkNm",
        "outputId": "05853dc0-7a24-4f08-c79f-d36d43fe5f86"
      },
      "execution_count": null,
      "outputs": [
        {
          "output_type": "execute_result",
          "data": {
            "text/plain": [
              "dict_keys(['loss', 'accuracy', 'val_loss', 'val_accuracy'])"
            ]
          },
          "metadata": {},
          "execution_count": 51
        }
      ]
    },
    {
      "cell_type": "markdown",
      "source": [
        "## Plotting History For Accuracy"
      ],
      "metadata": {
        "id": "SbS9gY0fiMv4"
      }
    },
    {
      "cell_type": "code",
      "source": [
        "plt.plot(model_history.history['accuracy'])\n",
        "plt.plot(model_history.history['val_accuracy'])\n",
        "plt.title('Model Accuracy')\n",
        "plt.ylabel('Accuracy')\n",
        "plt.xlabel('epoch')\n",
        "plt.legend(['train','test'], loc='upper left')\n",
        "plt.show()\n"
      ],
      "metadata": {
        "colab": {
          "base_uri": "https://localhost:8080/",
          "height": 472
        },
        "id": "wFPmfgI4fkKR",
        "outputId": "e731a46e-0d0b-48bc-bd34-2c7285182c38"
      },
      "execution_count": null,
      "outputs": [
        {
          "output_type": "display_data",
          "data": {
            "text/plain": [
              "<Figure size 640x480 with 1 Axes>"
            ],
            "image/png": "[encoded data removed]"
          },
          "metadata": {}
        }
      ]
    },
    {
      "cell_type": "code",
      "source": [
        "## Plotting For Loss\n",
        "\n",
        "plt.plot(model_history.history['loss'])\n",
        "plt.plot(model_history.history['val_loss'])\n",
        "plt.title('Model Loss')\n",
        "plt.ylabel('Loss')\n",
        "plt.xlabel('epoch')\n",
        "plt.legend(['train','test'], loc='upper left')\n",
        "plt.show()\n"
      ],
      "metadata": {
        "colab": {
          "base_uri": "https://localhost:8080/",
          "height": 472
        },
        "id": "K7MwEoGmfkDC",
        "outputId": "276e6404-a9f7-47af-9866-258204770f33"
      },
      "execution_count": null,
      "outputs": [
        {
          "output_type": "display_data",
          "data": {
            "text/plain": [
              "<Figure size 640x480 with 1 Axes>"
            ],
            "image/png": "[encoded data removed]"
          },
          "metadata": {}
        }
      ]
    },
    {
      "cell_type": "markdown",
      "source": [
        "# Part 3"
      ],
      "metadata": {
        "id": "06YzrBuEjSpj"
      }
    },
    {
      "cell_type": "markdown",
      "source": [
        "## Making the Prediction and Evaluating the Model"
      ],
      "metadata": {
        "id": "c1XJDGxmjU35"
      }
    },
    {
      "cell_type": "code",
      "source": [
        "## Predicting the Test set results\n",
        "y_pred = classifier.predict(X_test)\n",
        "y_pred = (y_pred >= 0.5)"
      ],
      "metadata": {
        "colab": {
          "base_uri": "https://localhost:8080/"
        },
        "id": "LOdglQ9djFhz",
        "outputId": "ee781b75-367d-45e1-db60-979608ef807e"
      },
      "execution_count": null,
      "outputs": [
        {
          "output_type": "stream",
          "name": "stdout",
          "text": [
            "94/94 [==============================] - 0s 3ms/step\n"
          ]
        }
      ]
    },
    {
      "cell_type": "code",
      "source": [
        "## Make the confusion matrix\n",
        "\n",
        "from sklearn.metrics import confusion_matrix\n",
        "\n",
        "cm = confusion_matrix(y_test, y_pred)\n",
        "cm"
      ],
      "metadata": {
        "colab": {
          "base_uri": "https://localhost:8080/"
        },
        "id": "gy5tBJ6Qjm_C",
        "outputId": "ae901e76-e9b7-4d71-b7af-ee2e7ea03f67"
      },
      "execution_count": null,
      "outputs": [
        {
          "output_type": "execute_result",
          "data": {
            "text/plain": [
              "array([[2220,  159],\n",
              "       [ 289,  332]])"
            ]
          },
          "metadata": {},
          "execution_count": 57
        }
      ]
    },
    {
      "cell_type": "code",
      "source": [
        "## Calculate the accuracy\n",
        "from sklearn.metrics import accuracy_score\n",
        "\n",
        "score = accuracy_score(y_pred, y_test)\n",
        "score"
      ],
      "metadata": {
        "colab": {
          "base_uri": "https://localhost:8080/"
        },
        "id": "5f-tES4wjx4y",
        "outputId": "433115fb-fc06-4e3a-e18e-e72b6b95382a"
      },
      "execution_count": null,
      "outputs": [
        {
          "output_type": "execute_result",
          "data": {
            "text/plain": [
              "0.8506666666666667"
            ]
          },
          "metadata": {},
          "execution_count": 61
        }
      ]
    },
    {
      "cell_type": "code",
      "source": [
        "## Get the weights\n",
        "classifier.get_weights()"
      ],
      "metadata": {
        "colab": {
          "base_uri": "https://localhost:8080/"
        },
        "id": "lXMtbUmaj-Ld",
        "outputId": "5dc5fe16-b2b7-4179-b7b4-44fe93de4442"
      },
      "execution_count": null,
      "outputs": [
        {
          "output_type": "execute_result",
          "data": {
            "text/plain": [
              "[array([[-0.1269053 , -0.06620181, -0.05292242,  0.23419337, -0.3954426 ,\n",
              "         -0.0380675 ,  0.10620043, -0.24779344,  0.34602216, -0.4972882 ,\n",
              "         -0.03864156],\n",
              "        [-0.44035006,  0.143008  ,  0.95199716, -0.00918011,  0.8521823 ,\n",
              "         -0.67367905, -0.48776007,  0.08184011,  0.7789385 , -0.40236628,\n",
              "          0.25515193],\n",
              "        [ 0.08242385,  0.2421639 ,  0.0278597 ,  0.59531325, -0.14191748,\n",
              "         -0.25108546,  0.375527  ,  0.04958421, -0.07894217, -0.05682672,\n",
              "         -0.00565185],\n",
              "        [-0.36293295, -0.25963584,  0.06086832, -0.80960584, -0.4987814 ,\n",
              "         -0.33924988,  0.283215  ,  0.17147115,  0.21763296,  0.61875045,\n",
              "         -0.14934912],\n",
              "        [ 0.4599812 ,  0.02123431,  1.2289573 ,  0.07895895, -0.9402217 ,\n",
              "          0.06431998, -0.7265847 ,  0.9520284 , -0.1948975 , -0.19134602,\n",
              "          0.4261943 ],\n",
              "        [-0.18984148,  0.02336257, -0.16718069,  0.29568988,  0.08061846,\n",
              "         -0.44028997, -0.41588002, -0.05510015,  0.22298807,  0.23845871,\n",
              "          0.45814696],\n",
              "        [-0.6890078 ,  0.89712095,  0.7000297 ,  0.50506055,  0.10347285,\n",
              "         -0.10937749, -0.5152106 , -0.24255587, -0.03270566,  0.04103325,\n",
              "          0.19244805],\n",
              "        [-0.20912088, -0.06458095, -0.11871669, -0.7213301 ,  0.33817342,\n",
              "         -0.13355955, -0.58340394, -0.06678103, -0.0030112 ,  0.04828216,\n",
              "          0.25798917],\n",
              "        [-0.2838569 , -0.33224022, -0.02801776, -0.20516525,  0.14189379,\n",
              "         -0.06788392,  0.2843142 , -0.23792954,  0.5301844 , -0.37716982,\n",
              "          0.39674523],\n",
              "        [-0.7440469 ,  0.5681021 , -0.05163685,  0.36112168, -0.05227559,\n",
              "          0.26614603,  0.63166654,  0.40376434, -0.04072712, -0.65299964,\n",
              "         -0.6476122 ],\n",
              "        [ 0.6137749 ,  0.25076407, -0.10727291, -0.15387146,  0.06001611,\n",
              "         -0.16171305, -0.02468708, -0.10368251,  0.01468075, -0.274043  ,\n",
              "          0.31514376]], dtype=float32),\n",
              " array([-0.23256435,  0.24046221, -0.6032442 , -0.31311572,  0.07928167,\n",
              "         0.62986785, -0.15133849, -0.22946787, -0.15521456, -0.00453312,\n",
              "         0.3911233 ], dtype=float32),\n",
              " array([[-0.1837271 ,  0.37418824,  0.38311374, -0.09200075, -0.23973115,\n",
              "         -0.88867956,  0.80053186],\n",
              "        [-0.4506335 ,  0.32403284, -0.29318658,  0.01958255,  0.36927494,\n",
              "          0.40653175,  0.5253483 ],\n",
              "        [-0.9911067 , -0.58964664,  0.71955365, -0.21890713,  0.87633115,\n",
              "         -1.6780485 , -0.05701254],\n",
              "        [ 0.30097452,  0.7190864 , -0.68540716, -0.3879507 , -0.15473658,\n",
              "         -2.5535004 , -0.18364753],\n",
              "        [ 0.8770915 , -0.1626829 , -0.3874693 , -0.38175556,  0.04196108,\n",
              "         -0.95498097, -0.34592757],\n",
              "        [-0.14790624,  0.04805675, -0.38326758,  0.31295744,  0.01595177,\n",
              "         -1.5426708 , -0.4937197 ],\n",
              "        [ 0.4876816 , -0.46662426, -0.21474689,  0.08557627, -1.0577406 ,\n",
              "         -1.7545295 ,  0.38215998],\n",
              "        [-0.84666187,  0.75985765,  0.86899984, -0.25597748, -0.5881844 ,\n",
              "          0.31810522, -0.12857753],\n",
              "        [ 0.10522779, -0.5046711 , -0.03626174, -0.31232747,  0.2155684 ,\n",
              "         -0.33871803, -0.70290965],\n",
              "        [ 0.02480397,  0.10880452, -0.4053911 ,  0.25936398, -0.05822019,\n",
              "          0.44301605, -1.2022299 ],\n",
              "        [-0.17057782,  0.2598291 ,  0.5804249 ,  0.4591721 ,  0.21659079,\n",
              "         -2.3004785 , -0.04277561]], dtype=float32),\n",
              " array([ 0.02743972,  0.7959353 , -0.00615641,  0.88936865, -0.37239167,\n",
              "         0.14254025, -0.26097295], dtype=float32),\n",
              " array([[ 1.02994978e+00, -1.59398103e+00, -3.59275877e-01,\n",
              "         -2.67921895e-01,  5.22799157e-02, -1.60024360e-01],\n",
              "        [ 1.82895184e-01,  4.41882968e-01, -3.80975723e-01,\n",
              "          5.45436859e-01,  2.57739961e-01,  7.65828490e-01],\n",
              "        [ 4.95755315e-01, -8.30570385e-02,  6.66920245e-02,\n",
              "         -2.31877223e-01,  8.87584507e-01, -4.63882893e-01],\n",
              "        [-8.47507119e-01, -6.30900741e-01,  5.37533998e-01,\n",
              "          5.81023633e-01, -9.54309583e-01,  7.12428689e-02],\n",
              "        [ 2.82829612e-01, -1.16383076e+00,  1.11793470e+00,\n",
              "          2.45634757e-04, -5.25033623e-02,  9.13541734e-01],\n",
              "        [ 2.73685813e-01, -6.25937223e-01, -1.45661843e+00,\n",
              "         -3.61396551e+00,  7.41843343e-01, -2.64322829e+00],\n",
              "        [-3.21409345e-01,  1.73220292e-01,  1.71392679e+00,\n",
              "          1.36116624e+00,  1.16990924e-01,  1.56350720e+00]], dtype=float32),\n",
              " array([ 0.33479595, -0.29388523,  0.06371182,  0.45887852,  0.2913012 ,\n",
              "         0.3786778 ], dtype=float32),\n",
              " array([[ 0.71849704],\n",
              "        [-1.015982  ],\n",
              "        [-0.8358026 ],\n",
              "        [-0.5804349 ],\n",
              "        [ 1.116413  ],\n",
              "        [-0.9615162 ]], dtype=float32),\n",
              " array([0.06755542], dtype=float32)]"
            ]
          },
          "metadata": {},
          "execution_count": 63
        }
      ]
    },
    {
      "cell_type": "code",
      "source": [],
      "metadata": {
        "id": "GXd8DLVPkMG1"
      },
      "execution_count": null,
      "outputs": []
    }
  ]
}