{
 "cells": [
  {
   "cell_type": "markdown",
   "metadata": {},
   "source": [
    "### List Comprehension"
   ]
  },
  {
   "cell_type": "code",
   "execution_count": 1,
   "metadata": {},
   "outputs": [
    {
     "data": {
      "text/plain": [
       "[1, 4, 9, 16, 25, 36, 49, 64, 81, 100]"
      ]
     },
     "execution_count": 1,
     "metadata": {},
     "output_type": "execute_result"
    }
   ],
   "source": [
    "squared_numbers = [x**2 for x in range(1,11)]\n",
    "squared_numbers"
   ]
  },
  {
   "cell_type": "markdown",
   "metadata": {},
   "source": [
    "### Multiple Assignments"
   ]
  },
  {
   "cell_type": "code",
   "execution_count": 4,
   "metadata": {},
   "outputs": [
    {
     "name": "stdout",
     "output_type": "stream",
     "text": [
      "1\n",
      "2\n",
      "4\n"
     ]
    }
   ],
   "source": [
    "\n",
    "x,y,z = 1,2,4\n",
    "print(f'{x}\\n{y}\\n{z}')"
   ]
  },
  {
   "cell_type": "markdown",
   "metadata": {},
   "source": [
    "### Unpacking"
   ]
  },
  {
   "cell_type": "code",
   "execution_count": 6,
   "metadata": {},
   "outputs": [
    {
     "name": "stdout",
     "output_type": "stream",
     "text": [
      "1\n",
      "2\n",
      "3\n"
     ]
    }
   ],
   "source": [
    "numbers = [1,2,3]\n",
    "a,b,c = numbers\n",
    "\n",
    "print(f'{a}\\n{b}\\n{c}')"
   ]
  },
  {
   "cell_type": "markdown",
   "metadata": {},
   "source": [
    "### Merge Dictionaries"
   ]
  },
  {
   "cell_type": "code",
   "execution_count": 8,
   "metadata": {},
   "outputs": [
    {
     "data": {
      "text/plain": [
       "{'a': 1, 'b': 2, 'c': 3, 'd': 4}"
      ]
     },
     "execution_count": 8,
     "metadata": {},
     "output_type": "execute_result"
    }
   ],
   "source": [
    "dict1 = {'a': 1, 'b': 2}\n",
    "dict2 = {'c': 3, 'd': 4}\n",
    "\n",
    "merged_dicts = {**dict1, **dict2}\n",
    "merged_dicts"
   ]
  },
  {
   "cell_type": "markdown",
   "metadata": {},
   "source": [
    "### Ternary Operator"
   ]
  },
  {
   "cell_type": "code",
   "execution_count": 10,
   "metadata": {},
   "outputs": [
    {
     "data": {
      "text/plain": [
       "'positive'"
      ]
     },
     "execution_count": 10,
     "metadata": {},
     "output_type": "execute_result"
    }
   ],
   "source": [
    "x = 10\n",
    "\n",
    "result = \"positive\" if x > 0 else \"non-positive\"\n",
    "result"
   ]
  },
  {
   "cell_type": "markdown",
   "metadata": {},
   "source": [
    "### Zip Function\n",
    "* Combine two or more lists using the zip function:"
   ]
  },
  {
   "cell_type": "code",
   "execution_count": 16,
   "metadata": {},
   "outputs": [
    {
     "name": "stdout",
     "output_type": "stream",
     "text": [
      "<zip object at 0x000002C3109E9200>\n"
     ]
    }
   ],
   "source": [
    "names = [\"Alice\", \"Bob\", \"Charlie\"]\n",
    "scores = [85, 92, 78]\n",
    "\n",
    "students = zip(names, scores)\n",
    "print(students)"
   ]
  },
  {
   "cell_type": "markdown",
   "metadata": {},
   "source": [
    "### Enumerate Function\n",
    "* Use enumerate to get both the index and value of elements in a\n",
    "list:\n"
   ]
  },
  {
   "cell_type": "code",
   "execution_count": 17,
   "metadata": {},
   "outputs": [
    {
     "name": "stdout",
     "output_type": "stream",
     "text": [
      "Index (0, 'apple'): ['apple', 'banana', 'cherry']\n",
      "Index (1, 'banana'): ['apple', 'banana', 'cherry']\n",
      "Index (2, 'cherry'): ['apple', 'banana', 'cherry']\n"
     ]
    }
   ],
   "source": [
    "fruits = [\"apple\", \"banana\", \"cherry\"]\n",
    "\n",
    "for i in enumerate(fruits):\n",
    "        print(f'Index {i}: {fruits}')\n"
   ]
  },
  {
   "cell_type": "markdown",
   "metadata": {},
   "source": [
    "### Any and All function"
   ]
  },
  {
   "cell_type": "code",
   "execution_count": 19,
   "metadata": {},
   "outputs": [
    {
     "name": "stdout",
     "output_type": "stream",
     "text": [
      "True\n",
      "False\n"
     ]
    }
   ],
   "source": [
    "numbers = [2, 4, 6, 7, 8]\n",
    "\n",
    "any_even = any(x %2  == 0 for x in numbers)\n",
    "all_even = all(x %2  == 0 for x in numbers)\n",
    "\n",
    "print(f\"{any_even}\\n{all_even}\")"
   ]
  },
  {
   "cell_type": "markdown",
   "metadata": {},
   "source": [
    "### One Liner Function"
   ]
  },
  {
   "cell_type": "code",
   "execution_count": 22,
   "metadata": {},
   "outputs": [
    {
     "name": "stdout",
     "output_type": "stream",
     "text": [
      "<function <lambda> at 0x000002C30F449240>\n"
     ]
    }
   ],
   "source": [
    "x = [1,2,3,4,5,6,7,8,9]\n",
    "\n",
    "square = lambda x: x**2\n",
    "print(square)"
   ]
  },
  {
   "cell_type": "markdown",
   "metadata": {},
   "source": [
    "### Q1. Write a program to find the greatest of three numbers entered by the user."
   ]
  },
  {
   "cell_type": "code",
   "execution_count": 1,
   "metadata": {},
   "outputs": [
    {
     "name": "stdout",
     "output_type": "stream",
     "text": [
      "The largest number is:  72.0\n"
     ]
    }
   ],
   "source": [
    "num1 = float(input(\"Enter First Number: \"))\n",
    "num2 = float(input(\"Enter Second Number: \"))\n",
    "num3 = float(input(\"Enter Second Number: \"))\n",
    "\n",
    "if (num1 >= num2) and (num1 >= num3):\n",
    "    largest = num1\n",
    "\n",
    "elif (num2 >= num1) and (num2 >= num3):\n",
    "    largest = num2\n",
    "    \n",
    "else:\n",
    "    largest = num3\n",
    "    \n",
    "print(\"The largest number is: \", largest)"
   ]
  },
  {
   "cell_type": "markdown",
   "metadata": {},
   "source": [
    "### Q2. Write a program to check if a number entered by the user is even or odd"
   ]
  },
  {
   "cell_type": "code",
   "execution_count": 3,
   "metadata": {},
   "outputs": [
    {
     "name": "stdout",
     "output_type": "stream",
     "text": [
      "The entered number 25 is Odd.\n"
     ]
    }
   ],
   "source": [
    "num = int(input('Enter the number: '))\n",
    "\n",
    "if num % 2 == 0 :\n",
    "    print(f'The entered number {num} is Even.')\n",
    "    \n",
    "else:\n",
    "    print(f'The entered number {num} is Odd.')"
   ]
  },
  {
   "cell_type": "markdown",
   "metadata": {},
   "source": [
    "### Q3. Write a program to find the factorial of a number entered by the user."
   ]
  },
  {
   "cell_type": "code",
   "execution_count": 5,
   "metadata": {},
   "outputs": [
    {
     "name": "stdout",
     "output_type": "stream",
     "text": [
      "The factorial of 5 is 120\n"
     ]
    }
   ],
   "source": [
    "num = int(input('Enter a number: '))\n",
    "\n",
    "factorial = 1\n",
    "\n",
    "if num < 0:\n",
    "    print('Sorry! Factorial does not exist for negative numbers.')\n",
    "    \n",
    "elif num == 0:\n",
    "    print('The Factorial of Zero is 1.')\n",
    "    \n",
    "else:\n",
    "    for i in range(1, num+1):\n",
    "        factorial = factorial * i\n",
    "    print(f'The factorial of {num} is {factorial}')"
   ]
  },
  {
   "cell_type": "markdown",
   "metadata": {},
   "source": [
    "### Q4. Write a program to display the multiplication table of a given integer."
   ]
  },
  {
   "cell_type": "code",
   "execution_count": 7,
   "metadata": {},
   "outputs": [
    {
     "name": "stdout",
     "output_type": "stream",
     "text": [
      "7 x 1 =  7\n",
      "7 x 2 =  14\n",
      "7 x 3 =  21\n",
      "7 x 4 =  28\n",
      "7 x 5 =  35\n",
      "7 x 6 =  42\n",
      "7 x 7 =  49\n",
      "7 x 8 =  56\n",
      "7 x 9 =  63\n",
      "7 x 10 =  70\n"
     ]
    }
   ],
   "source": [
    "num = int(input('Enter a number: '))\n",
    "\n",
    "for i in range(1,11):\n",
    "    print(f'{num} x {i} = ', num*i)"
   ]
  },
  {
   "cell_type": "markdown",
   "metadata": {},
   "source": [
    "### Q5. Write a program to check if a given year is a leap year.\n"
   ]
  },
  {
   "cell_type": "code",
   "execution_count": 8,
   "metadata": {},
   "outputs": [
    {
     "name": "stdout",
     "output_type": "stream",
     "text": [
      "1997 is not a leap year.\n"
     ]
    }
   ],
   "source": [
    "year = int(input(\"Enter a year: \"))\n",
    "\n",
    "if (year % 4) == 0:\n",
    "    if (year % 100) ==0:\n",
    "        if (year % 400) == 0:\n",
    "            print(year, 'is a Leap Year.')\n",
    "            \n",
    "        else:\n",
    "            print(year, \"is not a leap year.\")\n",
    "            \n",
    "    else:\n",
    "        print(year, 'is a leap year.')\n",
    "        \n",
    "else:\n",
    "    print(year, 'is not a leap year.')"
   ]
  },
  {
   "cell_type": "markdown",
   "metadata": {},
   "source": [
    "### Q6. Write a program to check if a given string is a palindrome.\n"
   ]
  },
  {
   "cell_type": "code",
   "execution_count": 9,
   "metadata": {},
   "outputs": [
    {
     "name": "stdout",
     "output_type": "stream",
     "text": [
      "wow is a palindrome\n"
     ]
    }
   ],
   "source": [
    "my_str = input('Enter a string: ')\n",
    "\n",
    "# Make it suitable for caseless comparision\n",
    "my_str = my_str.casefold()\n",
    "\n",
    "rev_str = reversed(my_str)\n",
    "\n",
    "if list(my_str) == list(rev_str):\n",
    "    print(my_str, 'is a palindrome')\n",
    "    \n",
    "else:\n",
    "    print(my_str, 'is not a palindrome.')"
   ]
  },
  {
   "cell_type": "markdown",
   "metadata": {},
   "source": [
    "### Q7. Write a program to print the Fibonacci sequence up to n terms."
   ]
  },
  {
   "cell_type": "code",
   "execution_count": 11,
   "metadata": {},
   "outputs": [
    {
     "name": "stdout",
     "output_type": "stream",
     "text": [
      "Fibonacci Sequence: \n",
      "0\n",
      "1\n",
      "1\n",
      "2\n",
      "3\n",
      "5\n",
      "8\n",
      "13\n",
      "21\n"
     ]
    }
   ],
   "source": [
    "n = int(input('How many terms? '))\n",
    "\n",
    "n1, n2 = 0,1\n",
    "count = 0\n",
    "\n",
    "if n<= 0:\n",
    "    print(\"Please enter a positive number.\")\n",
    "    \n",
    "elif n == 1:\n",
    "    print(\"Fibonacci sequence upto\", n, \":\")\n",
    "    print(n1)\n",
    "    \n",
    "else:\n",
    "    print(\"Fibonacci Sequence: \")\n",
    "    while count < n:\n",
    "        print(n1)\n",
    "        nth = n1 + n2\n",
    "        n1 = n2\n",
    "        n2 = nth\n",
    "        count += 1"
   ]
  },
  {
   "cell_type": "markdown",
   "metadata": {},
   "source": [
    "### Q8. Write a program to reverse a given string."
   ]
  },
  {
   "cell_type": "code",
   "execution_count": 12,
   "metadata": {},
   "outputs": [
    {
     "name": "stdout",
     "output_type": "stream",
     "text": [
      "The original string is Hello My Name Is Swapnil !\n",
      "The reversed string is:  ! linpawS sI emaN yM olleH\n"
     ]
    }
   ],
   "source": [
    "my_str = input(\"Enter a string: \")\n",
    "\n",
    "print('The original string is',my_str)\n",
    "\n",
    "rev_str = reversed(my_str)\n",
    "\n",
    "output_str = ''.join(rev_str)\n",
    "\n",
    "print('The reversed string is: ', output_str)"
   ]
  },
  {
   "cell_type": "markdown",
   "metadata": {},
   "source": [
    "### Q9. Write a program to remove all duplicate elements from a given array."
   ]
  },
  {
   "cell_type": "code",
   "execution_count": 13,
   "metadata": {},
   "outputs": [
    {
     "name": "stdout",
     "output_type": "stream",
     "text": [
      "Original Array:  [1, 2, 2, 3, 4, 4, 5]\n",
      "Array after removing the duplicates:  [1, 2, 3, 4, 5]\n"
     ]
    }
   ],
   "source": [
    "arr = [1,2,2,3,4,4,5]\n",
    "\n",
    "print('Original Array: ', arr)\n",
    "\n",
    "unique = []\n",
    "for i in arr:\n",
    "    if i not in unique:\n",
    "        unique.append(i)\n",
    "        \n",
    "print('Array after removing the duplicates: ', unique)"
   ]
  },
  {
   "cell_type": "markdown",
   "metadata": {},
   "source": [
    "### Q10. Write a program to reverse a given integer number.\n"
   ]
  },
  {
   "cell_type": "code",
   "execution_count": 3,
   "metadata": {},
   "outputs": [
    {
     "name": "stdout",
     "output_type": "stream",
     "text": [
      "Reversed Number:  62\n"
     ]
    }
   ],
   "source": [
    "num = int(input('Enter a number: '))\n",
    "\n",
    "reversed_num = 0\n",
    "\n",
    "while num != 0:\n",
    "    digit = num % 10\n",
    "    reversed_num = reversed_num * 10 + digit\n",
    "    num //= 10\n",
    "    \n",
    "print('Reversed Number: ', str(reversed_num))"
   ]
  },
  {
   "cell_type": "markdown",
   "metadata": {},
   "source": [
    "### Q11. Write a program to reverse an integer."
   ]
  },
  {
   "cell_type": "code",
   "execution_count": 5,
   "metadata": {},
   "outputs": [
    {
     "name": "stdout",
     "output_type": "stream",
     "text": [
      "Reversed Number: 85\n"
     ]
    }
   ],
   "source": [
    "num = int(input('Enter a number: '))\n",
    "\n",
    "reverse_num = 0\n",
    "\n",
    "while num != 0:\n",
    "    digit = num % 10\n",
    "    reverse_num = reverse_num * 10 + digit\n",
    "    num //= 10\n",
    "    \n",
    "print('Reversed Number: ' + str(reverse_num))"
   ]
  },
  {
   "cell_type": "markdown",
   "metadata": {},
   "source": [
    "### Q12. WAP to find the max and min element in the array."
   ]
  },
  {
   "cell_type": "code",
   "execution_count": 6,
   "metadata": {},
   "outputs": [
    {
     "name": "stdout",
     "output_type": "stream",
     "text": [
      "Original Array:  [25, 11, 7, 75, 56]\n",
      "The max element is:  75\n",
      "The min element is:  7\n"
     ]
    }
   ],
   "source": [
    "arr = [25, 11, 7, 75, 56]\n",
    "\n",
    "print('Original Array: ', arr)\n",
    "\n",
    "max = arr[0]\n",
    "min = arr[0]\n",
    "\n",
    "for i in arr:\n",
    "    if i > max:\n",
    "        max = i\n",
    "    elif i < min:\n",
    "        min = i\n",
    "        \n",
    "print(\"The max element is: \", max)\n",
    "print(\"The min element is: \", min)"
   ]
  },
  {
   "cell_type": "markdown",
   "metadata": {},
   "source": [
    "### Q13. Write a program to print all prime numbers in a given range."
   ]
  },
  {
   "cell_type": "code",
   "execution_count": 19,
   "metadata": {},
   "outputs": [
    {
     "name": "stdout",
     "output_type": "stream",
     "text": [
      "Prime numbers between 5 and 100 are:  [5, 6, 7, 8, 9, 10, 11, 12, 13, 14, 15, 16, 17, 18, 19, 20, 21, 22, 23, 24, 25, 26, 27, 28, 29, 30, 31, 32, 33, 34, 35, 36, 37, 38, 39, 40, 41, 42, 43, 44, 45, 46, 47, 48, 49, 50, 51, 52, 53, 54, 55, 56]\n"
     ]
    }
   ],
   "source": [
    "lower = int(input('Enter the lower number: '))\n",
    "upper = int(input('Enter the upper number: '))\n",
    "\n",
    "prime_numbers = []\n",
    "\n",
    "for num in range(lower, upper+1):\n",
    "    if num > 1:\n",
    "        if i in range(2,num):\n",
    "            if (num % i) == 0:\n",
    "                break\n",
    "        \n",
    "        else:\n",
    "            prime_numbers.append(num)\n",
    "            \n",
    "        \n",
    "print('Prime numbers between',lower,'and',upper,'are: ', prime_numbers)\n",
    "\n"
   ]
  },
  {
   "cell_type": "markdown",
   "metadata": {},
   "source": [
    "### Q14. Write a program to print the frequency of each element in a given array."
   ]
  },
  {
   "cell_type": "code",
   "execution_count": 21,
   "metadata": {},
   "outputs": [
    {
     "name": "stdout",
     "output_type": "stream",
     "text": [
      "Frequency of each element in a given array:\n",
      " {1: 2, 2: 2, 3: 1, 5: 1, 8: 2}\n"
     ]
    }
   ],
   "source": [
    "arr = [1, 1, 2, 2, 3, 5, 8, 8]\n",
    "\n",
    "freq = {}\n",
    "\n",
    "for item in arr:\n",
    "    if item in freq:\n",
    "        freq[item] += 1\n",
    "    \n",
    "    else:\n",
    "        freq[item] = 1\n",
    "        \n",
    "print('Frequency of each element in a given array:\\n',str(freq))"
   ]
  },
  {
   "cell_type": "markdown",
   "metadata": {},
   "source": [
    "### Q15. Write a program to merge two sorted arrays into a single sorted array."
   ]
  },
  {
   "cell_type": "code",
   "execution_count": 22,
   "metadata": {},
   "outputs": [
    {
     "name": "stdout",
     "output_type": "stream",
     "text": [
      "[1, 2, 3, 4, 5, 6, 7, 8]\n"
     ]
    }
   ],
   "source": [
    "arr1 = [1, 3, 5, 7]\n",
    "arr2 = [2, 4, 6, 8]\n",
    "\n",
    "sorted_arr = []\n",
    "\n",
    "i,j = 0,0\n",
    "\n",
    "while i < len(arr1) and j < len(arr2):\n",
    "    if arr1[i] < arr2[j]:\n",
    "        sorted_arr.append(arr1[i])\n",
    "        i += 1\n",
    "        \n",
    "    else:\n",
    "        sorted_arr.append(arr2[j])\n",
    "        j += 1\n",
    "        \n",
    "sorted_arr += arr1[i:] + arr2[j:]\n",
    "\n",
    "print(sorted_arr)"
   ]
  },
  {
   "cell_type": "markdown",
   "metadata": {},
   "source": [
    "### Q16. Write a program to find the second largest number in a given array."
   ]
  },
  {
   "cell_type": "code",
   "execution_count": 58,
   "metadata": {},
   "outputs": [
    {
     "ename": "TypeError",
     "evalue": "'int' object is not callable",
     "output_type": "error",
     "traceback": [
      "\u001b[1;31m---------------------------------------------------------------------------\u001b[0m",
      "\u001b[1;31mTypeError\u001b[0m                                 Traceback (most recent call last)",
      "Cell \u001b[1;32mIn[58], line 3\u001b[0m\n\u001b[0;32m      1\u001b[0m arr \u001b[39m=\u001b[39m [\u001b[39m10\u001b[39m, \u001b[39m20\u001b[39m, \u001b[39m4\u001b[39m, \u001b[39m45\u001b[39m, \u001b[39m99\u001b[39m]\n\u001b[1;32m----> 3\u001b[0m max_num \u001b[39m=\u001b[39m \u001b[39mmax\u001b[39;49m(arr[\u001b[39m0\u001b[39;49m], arr[\u001b[39m1\u001b[39;49m]) \n\u001b[0;32m      4\u001b[0m second_max \u001b[39m=\u001b[39m \u001b[39mmin\u001b[39m(arr[\u001b[39m0\u001b[39m], arr[\u001b[39m1\u001b[39m])  \n\u001b[0;32m      6\u001b[0m \u001b[39mfor\u001b[39;00m i \u001b[39min\u001b[39;00m \u001b[39mrange\u001b[39m(\u001b[39m2\u001b[39m, \u001b[39mlen\u001b[39m(arr)):\n",
      "\u001b[1;31mTypeError\u001b[0m: 'int' object is not callable"
     ]
    }
   ],
   "source": [
    "arr = [10, 20, 4, 45, 99]\n",
    "\n",
    "mx = max(arr[0], arr[1]) \n",
    "secondmax = min(arr[0], arr[1])  \n",
    "\n",
    "for i in range(2, len(arr)):\n",
    "  if arr[i] > mx:\n",
    "    secondmax = mx\n",
    "    mx = arr[i]\n",
    "  elif arr[i] > secondmax and mx != arr[i]:\n",
    "    secondmax = arr[i]\n",
    "      \n",
    "print(\"Second highest number is:\", str(secondmax))"
   ]
  },
  {
   "cell_type": "code",
   "execution_count": null,
   "metadata": {},
   "outputs": [],
   "source": []
  },
  {
   "cell_type": "code",
   "execution_count": null,
   "metadata": {},
   "outputs": [],
   "source": []
  },
  {
   "cell_type": "code",
   "execution_count": null,
   "metadata": {},
   "outputs": [],
   "source": []
  },
  {
   "cell_type": "code",
   "execution_count": null,
   "metadata": {},
   "outputs": [],
   "source": []
  }
 ],
 "metadata": {
  "kernelspec": {
   "display_name": "base",
   "language": "python",
   "name": "python3"
  },
  "language_info": {
   "codemirror_mode": {
    "name": "ipython",
    "version": 3
   },
   "file_extension": ".py",
   "mimetype": "text/x-python",
   "name": "python",
   "nbconvert_exporter": "python",
   "pygments_lexer": "ipython3",
   "version": "3.10.9"
  },
  "orig_nbformat": 4
 },
 "nbformat": 4,
 "nbformat_minor": 2
}
